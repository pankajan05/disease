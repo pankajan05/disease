{
 "cells": [
  {
   "cell_type": "code",
   "execution_count": 84,
   "metadata": {},
   "outputs": [],
   "source": [
    "import numpy as np\n",
    "import matplotlib.pyplot as plt\n",
    "import pandas as pd"
   ]
  },
  {
   "cell_type": "code",
   "execution_count": 85,
   "metadata": {},
   "outputs": [
    {
     "data": {
      "text/html": [
       "<div>\n",
       "<style scoped>\n",
       "    .dataframe tbody tr th:only-of-type {\n",
       "        vertical-align: middle;\n",
       "    }\n",
       "\n",
       "    .dataframe tbody tr th {\n",
       "        vertical-align: top;\n",
       "    }\n",
       "\n",
       "    .dataframe thead th {\n",
       "        text-align: right;\n",
       "    }\n",
       "</style>\n",
       "<table border=\"1\" class=\"dataframe\">\n",
       "  <thead>\n",
       "    <tr style=\"text-align: right;\">\n",
       "      <th></th>\n",
       "      <th>ID</th>\n",
       "      <th>Disease</th>\n",
       "      <th>Symtom_01</th>\n",
       "      <th>Symtom_02</th>\n",
       "      <th>Symtom_03</th>\n",
       "    </tr>\n",
       "  </thead>\n",
       "  <tbody>\n",
       "    <tr>\n",
       "      <th>0</th>\n",
       "      <td>1</td>\n",
       "      <td>Fungal infection</td>\n",
       "      <td>itching</td>\n",
       "      <td>skin rash</td>\n",
       "      <td>skin eruptions</td>\n",
       "    </tr>\n",
       "    <tr>\n",
       "      <th>1</th>\n",
       "      <td>2</td>\n",
       "      <td>Fungal infection</td>\n",
       "      <td>skin rash</td>\n",
       "      <td>skin eruptions</td>\n",
       "      <td>spots on the skin</td>\n",
       "    </tr>\n",
       "    <tr>\n",
       "      <th>2</th>\n",
       "      <td>3</td>\n",
       "      <td>Fungal infection</td>\n",
       "      <td>itching</td>\n",
       "      <td>skin eruptions</td>\n",
       "      <td>spots on the skin</td>\n",
       "    </tr>\n",
       "    <tr>\n",
       "      <th>3</th>\n",
       "      <td>4</td>\n",
       "      <td>Fungal infection</td>\n",
       "      <td>itching</td>\n",
       "      <td>skin rash</td>\n",
       "      <td>spots on the skin</td>\n",
       "    </tr>\n",
       "    <tr>\n",
       "      <th>4</th>\n",
       "      <td>5</td>\n",
       "      <td>Allergy</td>\n",
       "      <td>red rash</td>\n",
       "      <td>cracked skin</td>\n",
       "      <td>blisters</td>\n",
       "    </tr>\n",
       "  </tbody>\n",
       "</table>\n",
       "</div>"
      ],
      "text/plain": [
       "   ID           Disease  Symtom_01       Symtom_02          Symtom_03\n",
       "0   1  Fungal infection    itching       skin rash     skin eruptions\n",
       "1   2  Fungal infection  skin rash  skin eruptions  spots on the skin\n",
       "2   3  Fungal infection    itching  skin eruptions  spots on the skin\n",
       "3   4  Fungal infection    itching       skin rash  spots on the skin\n",
       "4   5           Allergy   red rash    cracked skin           blisters"
      ]
     },
     "execution_count": 85,
     "metadata": {},
     "output_type": "execute_result"
    }
   ],
   "source": [
    "dataset = pd.read_csv(\"test1.csv\")\n",
    "dataset.head()"
   ]
  },
  {
   "cell_type": "code",
   "execution_count": null,
   "metadata": {},
   "outputs": [],
   "source": []
  },
  {
   "cell_type": "code",
   "execution_count": 86,
   "metadata": {},
   "outputs": [
    {
     "name": "stderr",
     "output_type": "stream",
     "text": [
      "<ipython-input-86-48574ee8dbe0>:5: SettingWithCopyWarning: \n",
      "A value is trying to be set on a copy of a slice from a DataFrame\n",
      "\n",
      "See the caveats in the documentation: https://pandas.pydata.org/pandas-docs/stable/user_guide/indexing.html#returning-a-view-versus-a-copy\n",
      "  dataset.Symtom_01[dataset.Symtom_01 == i] = index\n"
     ]
    }
   ],
   "source": [
    "symtomsArray01 = np.array(dataset.Symtom_01)\n",
    "symtomsArray01 = list(dict.fromkeys(symtomsArray01))\n",
    "index = 0\n",
    "for i in symtomsArray01:\n",
    "    dataset.Symtom_01[dataset.Symtom_01 == i] = index\n",
    "    index = index+1"
   ]
  },
  {
   "cell_type": "code",
   "execution_count": 87,
   "metadata": {},
   "outputs": [
    {
     "name": "stderr",
     "output_type": "stream",
     "text": [
      "<ipython-input-87-a75cf3b6a4a8>:5: SettingWithCopyWarning: \n",
      "A value is trying to be set on a copy of a slice from a DataFrame\n",
      "\n",
      "See the caveats in the documentation: https://pandas.pydata.org/pandas-docs/stable/user_guide/indexing.html#returning-a-view-versus-a-copy\n",
      "  dataset.Symtom_02[dataset.Symtom_02 == j] = index\n"
     ]
    }
   ],
   "source": [
    "symtomsArray02 = np.array(dataset.Symtom_02)\n",
    "symtomsArray02 = list(dict.fromkeys(symtomsArray02))\n",
    "index = 0\n",
    "for j in symtomsArray02:\n",
    "    dataset.Symtom_02[dataset.Symtom_02 == j] = index\n",
    "    index = index+1"
   ]
  },
  {
   "cell_type": "code",
   "execution_count": 89,
   "metadata": {},
   "outputs": [
    {
     "name": "stdout",
     "output_type": "stream",
     "text": [
      "[0 1 1 1 2 3 4 5 6 6 6 7 8 9 10 11 12 13 14 15 16 17 4 18 19 20 21 22 23\n",
      " 24 25 26 27 28 29 30 31 16 32 33 34 35 36 37 38 39 40 41 42 8 43 8 44 45\n",
      " 10 46 47 48 49 50 51 52 51 53 53 54 55 56 57 57 58 12 59 60 61 62 63 64\n",
      " 51 12 65 12 66 67 67 68 69 70 71 72 72 73 74 75 76 74 75 77 78 59 79 80\n",
      " 80 81 82 83 84 16 85 86 87 88 89 90 8 91 92 16 51 40 93 94 85 95 96 95 4\n",
      " 97 98 99 98 97 46 100 101 102 103 104 105 106 107 9 108 11 12 13 109 15\n",
      " 16 110 111 112 19 113 114 43 115 116 47 117 118 47 119 51 120 121 121 122\n",
      " 123 124 125 126 127 126 128 16 129 130 131 30 132 19 133 43 134 135 136\n",
      " 135 137 138]\n",
      "      ID           Disease Symtom_01 Symtom_02 Symtom_03\n",
      "0      1  Fungal infection         0         0         0\n",
      "1      2  Fungal infection         1         1         1\n",
      "2      3  Fungal infection         0         1         1\n",
      "3      4  Fungal infection         0         0         1\n",
      "4      5           Allergy         2         2         2\n",
      "..   ...               ...       ...       ...       ...\n",
      "185  186       Blepharitis        99       147       135\n",
      "186  187       Blepharitis        99       147       136\n",
      "187  188       Blepharitis        99       148       135\n",
      "188  189         Cirrhosis       100       149       137\n",
      "189  190         Cirrhosis       100       150       138\n",
      "\n",
      "[190 rows x 5 columns]\n"
     ]
    },
    {
     "name": "stderr",
     "output_type": "stream",
     "text": [
      "<ipython-input-89-1a167b1af607>:6: SettingWithCopyWarning: \n",
      "A value is trying to be set on a copy of a slice from a DataFrame\n",
      "\n",
      "See the caveats in the documentation: https://pandas.pydata.org/pandas-docs/stable/user_guide/indexing.html#returning-a-view-versus-a-copy\n",
      "  dataset.Symtom_03[dataset.Symtom_03 == k] = index\n"
     ]
    }
   ],
   "source": [
    "symtomsArray03 = np.array(dataset.Symtom_03)\n",
    "print(symtomsArray03)\n",
    "symtomsArray03 = list(dict.fromkeys(symtomsArray03))\n",
    "index = 0\n",
    "for k in symtomsArray03:\n",
    "    dataset.Symtom_03[dataset.Symtom_03 == k] = index\n",
    "    index = index+1\n",
    "    \n",
    "print(dataset)"
   ]
  },
  {
   "cell_type": "code",
   "execution_count": 83,
   "metadata": {},
   "outputs": [],
   "source": [
    "X = dataset.iloc[:,[2,3,4]].values\n",
    "y = dataset.iloc[:, 1].values\n",
    "\n",
    "print(X)"
   ]
  },
  {
   "cell_type": "code",
   "execution_count": 55,
   "metadata": {},
   "outputs": [],
   "source": [
    "from sklearn.model_selection import train_test_split\n",
    "X_train, X_test, y_train, y_test = train_test_split(X, y, test_size=0.20)"
   ]
  },
  {
   "cell_type": "code",
   "execution_count": 56,
   "metadata": {},
   "outputs": [
    {
     "data": {
      "text/plain": [
       "StandardScaler()"
      ]
     },
     "execution_count": 56,
     "metadata": {},
     "output_type": "execute_result"
    }
   ],
   "source": [
    "from sklearn.preprocessing import StandardScaler\n",
    "scaler = StandardScaler()\n",
    "scaler.fit(X_train)"
   ]
  },
  {
   "cell_type": "code",
   "execution_count": 57,
   "metadata": {},
   "outputs": [],
   "source": [
    "X_train = scaler.transform(X_train)\n",
    "X_test = scaler.transform(X_test)"
   ]
  },
  {
   "cell_type": "code",
   "execution_count": 58,
   "metadata": {},
   "outputs": [
    {
     "data": {
      "text/plain": [
       "KNeighborsClassifier()"
      ]
     },
     "execution_count": 58,
     "metadata": {},
     "output_type": "execute_result"
    }
   ],
   "source": [
    "from sklearn.neighbors import KNeighborsClassifier\n",
    "classifier = KNeighborsClassifier(n_neighbors=5)\n",
    "classifier.fit(X_train, y_train)"
   ]
  },
  {
   "cell_type": "code",
   "execution_count": 59,
   "metadata": {},
   "outputs": [],
   "source": [
    "y_pred = classifier.predict(X_test)"
   ]
  },
  {
   "cell_type": "code",
   "execution_count": 60,
   "metadata": {},
   "outputs": [
    {
     "name": "stdout",
     "output_type": "stream",
     "text": [
      "[[0 0 0 ... 0 0 0]\n",
      " [0 0 0 ... 0 0 0]\n",
      " [0 0 1 ... 0 0 0]\n",
      " ...\n",
      " [0 0 0 ... 0 0 0]\n",
      " [0 0 0 ... 0 0 0]\n",
      " [0 0 0 ... 0 0 0]]\n",
      "                                                               precision    recall  f1-score   support\n",
      "\n",
      "                                                  Dehydration       0.00      0.00      0.00         0\n",
      "                                                       Anemia       0.00      0.00      0.00         0\n",
      "                                                 Appendicitis       0.50      1.00      0.67         1\n",
      "                                                    Arthritis       0.33      1.00      0.50         1\n",
      "                                   Blood in Urine (Hematuria)       0.00      0.00      0.00         2\n",
      "                                                      Catarrh       0.00      0.00      0.00         0\n",
      "                                          Cervical spondylosi       0.00      0.00      0.00         0\n",
      "                                                   Chest pain       0.00      0.00      0.00         0\n",
      "                                                  Cholesterol       0.00      0.00      0.00         1\n",
      "                                                  Common cold       1.00      1.00      1.00         1\n",
      "                                                 Constipation       0.00      0.00      0.00         1\n",
      "                                                    Diabetes        0.00      0.00      0.00         1\n",
      "                                               Eye Infections       0.50      1.00      0.67         1\n",
      "                                               Food poisoning       0.00      0.00      0.00         2\n",
      "                                                    Gastritis       0.00      0.00      0.00         1\n",
      "                       Gastroesophageal reflux disease (GERD)       0.14      1.00      0.25         1\n",
      "                                                  Hepatitis A       0.00      0.00      0.00         2\n",
      "                                  Hepatitis B liver infection       0.00      0.00      0.00         1\n",
      "                                  Hepatitis c virus infection       0.50      1.00      0.67         1\n",
      "                                                Hypertension        0.25      0.50      0.33         2\n",
      "                         Hyperthyroidism (Overactive Thyroid)       0.00      0.00      0.00         1\n",
      "Hypothyroidism (body doesn't produce enough thyroid hormones)       0.00      0.00      0.00         0\n",
      "                               Impetigo( bacterial infection)       0.00      0.00      0.00         2\n",
      "                                                      Measles       0.00      0.00      0.00         1\n",
      "                                                 Muscle aches       0.00      0.00      0.00         1\n",
      "                                              Nail Infections       0.00      0.00      0.00         1\n",
      "                                                    Psoriasis       0.00      0.00      0.00         4\n",
      "                                               Skin Disorders       1.00      1.00      1.00         1\n",
      "                                                 Tuberculosis       0.00      0.00      0.00         1\n",
      "                                                          flu       0.00      0.00      0.00         1\n",
      "                                                     jaundice       0.00      0.00      0.00         1\n",
      "                                          lack of Vitamin B3        0.00      0.00      0.00         1\n",
      "                                              liver infection       0.00      0.00      0.00         1\n",
      "                                                       stress       0.00      0.00      0.00         0\n",
      "                                                  tooth decay       0.00      0.00      0.00         1\n",
      "                                                 yellow fever       0.00      0.00      0.00         2\n",
      "\n",
      "                                                     accuracy                           0.21        38\n",
      "                                                    macro avg       0.12      0.21      0.14        38\n",
      "                                                 weighted avg       0.12      0.21      0.14        38\n",
      "\n"
     ]
    },
    {
     "name": "stderr",
     "output_type": "stream",
     "text": [
      "C:\\Python38\\lib\\site-packages\\sklearn\\metrics\\_classification.py:1245: UndefinedMetricWarning: Precision and F-score are ill-defined and being set to 0.0 in labels with no predicted samples. Use `zero_division` parameter to control this behavior.\n",
      "  _warn_prf(average, modifier, msg_start, len(result))\n",
      "C:\\Python38\\lib\\site-packages\\sklearn\\metrics\\_classification.py:1245: UndefinedMetricWarning: Recall and F-score are ill-defined and being set to 0.0 in labels with no true samples. Use `zero_division` parameter to control this behavior.\n",
      "  _warn_prf(average, modifier, msg_start, len(result))\n",
      "C:\\Python38\\lib\\site-packages\\sklearn\\metrics\\_classification.py:1245: UndefinedMetricWarning: Precision and F-score are ill-defined and being set to 0.0 in labels with no predicted samples. Use `zero_division` parameter to control this behavior.\n",
      "  _warn_prf(average, modifier, msg_start, len(result))\n",
      "C:\\Python38\\lib\\site-packages\\sklearn\\metrics\\_classification.py:1245: UndefinedMetricWarning: Recall and F-score are ill-defined and being set to 0.0 in labels with no true samples. Use `zero_division` parameter to control this behavior.\n",
      "  _warn_prf(average, modifier, msg_start, len(result))\n",
      "C:\\Python38\\lib\\site-packages\\sklearn\\metrics\\_classification.py:1245: UndefinedMetricWarning: Precision and F-score are ill-defined and being set to 0.0 in labels with no predicted samples. Use `zero_division` parameter to control this behavior.\n",
      "  _warn_prf(average, modifier, msg_start, len(result))\n",
      "C:\\Python38\\lib\\site-packages\\sklearn\\metrics\\_classification.py:1245: UndefinedMetricWarning: Recall and F-score are ill-defined and being set to 0.0 in labels with no true samples. Use `zero_division` parameter to control this behavior.\n",
      "  _warn_prf(average, modifier, msg_start, len(result))\n"
     ]
    }
   ],
   "source": [
    "from sklearn.metrics import classification_report, confusion_matrix\n",
    "print(confusion_matrix(y_test, y_pred))\n",
    "print(classification_report(y_test, y_pred))\n",
    "\n",
    "error = []"
   ]
  },
  {
   "cell_type": "code",
   "execution_count": 61,
   "metadata": {},
   "outputs": [],
   "source": [
    "for i in range(1, 40):\n",
    "    knn = KNeighborsClassifier(n_neighbors=i)\n",
    "    knn.fit(X_train, y_train)\n",
    "    pred_i = knn.predict(X_test)\n",
    "    error.append(np.mean(pred_i != y_test))\n"
   ]
  },
  {
   "cell_type": "code",
   "execution_count": 62,
   "metadata": {},
   "outputs": [
    {
     "data": {
      "text/plain": [
       "Text(0, 0.5, 'Mean Error')"
      ]
     },
     "execution_count": 62,
     "metadata": {},
     "output_type": "execute_result"
    },
    {
     "data": {
      "image/png": "[encoded data removed]",
      "text/plain": [
       "<Figure size 864x432 with 1 Axes>"
      ]
     },
     "metadata": {
      "needs_background": "light"
     },
     "output_type": "display_data"
    }
   ],
   "source": [
    "plt.figure(figsize=(12, 6))\n",
    "plt.plot(range(1, 40), error, color='red', linestyle='dashed', marker='o',\n",
    "         markerfacecolor='blue', markersize=10)\n",
    "plt.title('Error Rate K Value')\n",
    "plt.xlabel('K Value')\n",
    "plt.ylabel('Mean Error')\n"
   ]
  },
  {
   "cell_type": "code",
   "execution_count": 63,
   "metadata": {},
   "outputs": [
    {
     "name": "stdout",
     "output_type": "stream",
     "text": [
      "Accuracy=2.631578947368421%\n"
     ]
    }
   ],
   "source": [
    "pred=knn.predict(X_test)# getting predictons for the algorithm for test data\n",
    "print(\"Accuracy={}%\".format((sum( y_test==pred)/ y_test.shape[0])*100))"
   ]
  },
  {
   "cell_type": "code",
   "execution_count": 64,
   "metadata": {},
   "outputs": [],
   "source": [
    "import joblib\n"
   ]
  },
  {
   "cell_type": "code",
   "execution_count": 65,
   "metadata": {},
   "outputs": [
    {
     "data": {
      "text/plain": [
       "['RFModelforMPG.pkl']"
      ]
     },
     "execution_count": 65,
     "metadata": {},
     "output_type": "execute_result"
    }
   ],
   "source": [
    "joblib.dump(classifier,'RFModelforMPG.pkl')"
   ]
  },
  {
   "cell_type": "code",
   "execution_count": null,
   "metadata": {},
   "outputs": [],
   "source": [
    "temp = {}\n",
    "temp['Symtom_01'] = 'red rash'\n",
    "temp['Symtom_02'] = 'sneezing'\n",
    "temp['Symtom_03'] = 'chills'\n",
    "\n",
    "\n",
    "\n",
    "X = dataset.iloc[:,temp].values\n",
    "\n",
    "testdata = scaler.transfrom(temp)"
   ]
  }
 ],
 "metadata": {
  "kernelspec": {
   "display_name": "Python 3",
   "language": "python",
   "name": "python3"
  },
  "language_info": {
   "codemirror_mode": {
    "name": "ipython",
    "version": 3
   },
   "file_extension": ".py",
   "mimetype": "text/x-python",
   "name": "python",
   "nbconvert_exporter": "python",
   "pygments_lexer": "ipython3",
   "version": "3.8.2"
  }
 },
 "nbformat": 4,
 "nbformat_minor": 4
}
