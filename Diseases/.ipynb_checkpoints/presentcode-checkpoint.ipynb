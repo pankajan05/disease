{
 "cells": [
  {
   "cell_type": "code",
   "execution_count": 1,
   "metadata": {},
   "outputs": [],
   "source": [
    "import numpy as np\n",
    "import matplotlib.pyplot as plt\n",
    "import pandas as pd"
   ]
  },
  {
   "cell_type": "code",
   "execution_count": 1,
   "metadata": {},
   "outputs": [
    {
     "ename": "NameError",
     "evalue": "name 'pd' is not defined",
     "output_type": "error",
     "traceback": [
      "\u001b[1;31m---------------------------------------------------------------------------\u001b[0m",
      "\u001b[1;31mNameError\u001b[0m                                 Traceback (most recent call last)",
      "\u001b[1;32m<ipython-input-1-6cc6de64947d>\u001b[0m in \u001b[0;36m<module>\u001b[1;34m\u001b[0m\n\u001b[1;32m----> 1\u001b[1;33m \u001b[0mdataset\u001b[0m \u001b[1;33m=\u001b[0m \u001b[0mpd\u001b[0m\u001b[1;33m.\u001b[0m\u001b[0mread_csv\u001b[0m\u001b[1;33m(\u001b[0m\u001b[1;34m\"./test1.csv\"\u001b[0m\u001b[1;33m)\u001b[0m\u001b[1;33m\u001b[0m\u001b[1;33m\u001b[0m\u001b[0m\n\u001b[0m",
      "\u001b[1;31mNameError\u001b[0m: name 'pd' is not defined"
     ]
    }
   ],
   "source": [
    "dataset = pd.read_csv(\"test1.csv\")"
   ]
  },
  {
   "cell_type": "code",
   "execution_count": 4,
   "metadata": {},
   "outputs": [
    {
     "name": "stderr",
     "output_type": "stream",
     "text": [
      "C:\\Users\\acer\\anaconda3\\lib\\site-packages\\ipykernel_launcher.py:5: SettingWithCopyWarning: \n",
      "A value is trying to be set on a copy of a slice from a DataFrame\n",
      "\n",
      "See the caveats in the documentation: https://pandas.pydata.org/pandas-docs/stable/user_guide/indexing.html#returning-a-view-versus-a-copy\n",
      "  \"\"\"\n"
     ]
    }
   ],
   "source": [
    "symtomsArray01 = np.array(dataset.Symtom_01)\n",
    "symtomsArray01 = list(dict.fromkeys(symtomsArray01))\n",
    "index = 0\n",
    "for i in symtomsArray01:\n",
    "    dataset.Symtom_01[dataset.Symtom_01 == i] = index\n",
    "    index = index+1"
   ]
  },
  {
   "cell_type": "code",
   "execution_count": 5,
   "metadata": {},
   "outputs": [
    {
     "name": "stderr",
     "output_type": "stream",
     "text": [
      "C:\\Users\\acer\\anaconda3\\lib\\site-packages\\ipykernel_launcher.py:5: SettingWithCopyWarning: \n",
      "A value is trying to be set on a copy of a slice from a DataFrame\n",
      "\n",
      "See the caveats in the documentation: https://pandas.pydata.org/pandas-docs/stable/user_guide/indexing.html#returning-a-view-versus-a-copy\n",
      "  \"\"\"\n"
     ]
    }
   ],
   "source": [
    "symtomsArray02 = np.array(dataset.Symtom_02)\n",
    "symtomsArray02 = list(dict.fromkeys(symtomsArray02))\n",
    "index = 0\n",
    "for j in symtomsArray02:\n",
    "    dataset.Symtom_02[dataset.Symtom_02 == j] = index\n",
    "    index = index+1"
   ]
  },
  {
   "cell_type": "code",
   "execution_count": 6,
   "metadata": {},
   "outputs": [
    {
     "name": "stderr",
     "output_type": "stream",
     "text": [
      "C:\\Users\\acer\\anaconda3\\lib\\site-packages\\ipykernel_launcher.py:5: SettingWithCopyWarning: \n",
      "A value is trying to be set on a copy of a slice from a DataFrame\n",
      "\n",
      "See the caveats in the documentation: https://pandas.pydata.org/pandas-docs/stable/user_guide/indexing.html#returning-a-view-versus-a-copy\n",
      "  \"\"\"\n"
     ]
    }
   ],
   "source": [
    "symtomsArray03 = np.array(dataset.Symtom_03)\n",
    "symtomsArray03 = list(dict.fromkeys(symtomsArray03))\n",
    "index = 0\n",
    "for k in symtomsArray03:\n",
    "    dataset.Symtom_03[dataset.Symtom_03 == k] = index\n",
    "    index = index+1"
   ]
  },
  {
   "cell_type": "code",
   "execution_count": 7,
   "metadata": {},
   "outputs": [],
   "source": [
    "X = dataset.iloc[:,[2,3,4]].values\n",
    "y = dataset.iloc[:, 1].values"
   ]
  },
  {
   "cell_type": "code",
   "execution_count": 8,
   "metadata": {},
   "outputs": [],
   "source": [
    "from sklearn.model_selection import train_test_split\n",
    "X_train, X_test, y_train, y_test = train_test_split(X, y, test_size=0.20)"
   ]
  },
  {
   "cell_type": "code",
   "execution_count": 9,
   "metadata": {},
   "outputs": [
    {
     "data": {
      "text/plain": [
       "StandardScaler(copy=True, with_mean=True, with_std=True)"
      ]
     },
     "execution_count": 9,
     "metadata": {},
     "output_type": "execute_result"
    }
   ],
   "source": [
    "from sklearn.preprocessing import StandardScaler\n",
    "scaler = StandardScaler()\n",
    "scaler.fit(X_train)"
   ]
  },
  {
   "cell_type": "code",
   "execution_count": 10,
   "metadata": {},
   "outputs": [],
   "source": [
    "X_train = scaler.transform(X_train)\n",
    "X_test = scaler.transform(X_test)\n"
   ]
  },
  {
   "cell_type": "code",
   "execution_count": 11,
   "metadata": {},
   "outputs": [
    {
     "data": {
      "text/plain": [
       "KNeighborsClassifier(algorithm='auto', leaf_size=30, metric='minkowski',\n",
       "                     metric_params=None, n_jobs=None, n_neighbors=5, p=2,\n",
       "                     weights='uniform')"
      ]
     },
     "execution_count": 11,
     "metadata": {},
     "output_type": "execute_result"
    }
   ],
   "source": [
    "from sklearn.neighbors import KNeighborsClassifier\n",
    "classifier = KNeighborsClassifier(n_neighbors=5)\n",
    "classifier.fit(X_train, y_train)"
   ]
  },
  {
   "cell_type": "code",
   "execution_count": 12,
   "metadata": {},
   "outputs": [],
   "source": [
    "y_pred = classifier.predict(X_test)"
   ]
  },
  {
   "cell_type": "code",
   "execution_count": 13,
   "metadata": {},
   "outputs": [
    {
     "name": "stdout",
     "output_type": "stream",
     "text": [
      "[[0 0 0 ... 0 0 0]\n",
      " [0 2 0 ... 0 0 0]\n",
      " [0 0 1 ... 0 0 0]\n",
      " ...\n",
      " [0 0 0 ... 0 0 0]\n",
      " [0 0 0 ... 0 0 0]\n",
      " [0 0 0 ... 0 0 0]]\n",
      "                                                               precision    recall  f1-score   support\n",
      "\n",
      "                                                  Dehydration       0.00      0.00      0.00         1\n",
      "                                                         Acne       1.00      1.00      1.00         2\n",
      "                                                       Anemia       1.00      1.00      1.00         1\n",
      "                                                      Anxiety       0.00      0.00      0.00         0\n",
      "                                                 Appendicitis       1.00      0.50      0.67         2\n",
      "                                                    Arthritis       0.50      1.00      0.67         2\n",
      "                                                       Asthma       0.00      0.00      0.00         1\n",
      "                                   Blood in Urine (Hematuria)       0.00      0.00      0.00         0\n",
      "                                             Blood infections       0.00      0.00      0.00         1\n",
      "                                                      Catarrh       0.00      0.00      0.00         1\n",
      "                                                   Chest pain       0.00      0.00      0.00         0\n",
      "                                                  Common cold       1.00      1.00      1.00         1\n",
      "                                                 Constipation       0.00      0.00      0.00         1\n",
      "                                                  Dehydration       0.00      0.00      0.00         1\n",
      "                                                    Diabetes        0.00      0.00      0.00         1\n",
      "                                                    Diarrhoea       0.00      0.00      0.00         1\n",
      "                                                Ear infection       0.00      0.00      0.00         0\n",
      "                                               Eye Infections       1.00      1.00      1.00         1\n",
      "                                             Fungal infection       1.00      1.00      1.00         1\n",
      "                       Gastroesophageal reflux disease (GERD)       1.00      1.00      1.00         1\n",
      "                                                Heart failure       0.00      0.00      0.00         1\n",
      "                                                  Hepatitis A       0.00      0.00      0.00         0\n",
      "                                  Hepatitis B liver infection       0.00      0.00      0.00         1\n",
      "                                                Hypertension        0.00      0.00      0.00         2\n",
      "Hypothyroidism (body doesn't produce enough thyroid hormones)       0.50      1.00      0.67         2\n",
      "                               Impetigo( bacterial infection)       0.00      0.00      0.00         1\n",
      "                                             Kidney infection       0.00      0.00      0.00         0\n",
      "                                                Liver disease       0.00      0.00      0.00         0\n",
      "                                                 Malnutrition       0.00      0.00      0.00         1\n",
      "                                                      Measles       0.00      0.00      0.00         1\n",
      "                                               Skin Disorders       1.00      1.00      1.00         2\n",
      "                                              Skin infections       0.00      0.00      0.00         0\n",
      "                                                 Tuberculosis       0.00      0.00      0.00         1\n",
      "                                                     jaundice       0.00      0.00      0.00         1\n",
      "                                                kidney stones       0.00      0.00      0.00         1\n",
      "                                                  tooth decay       0.00      0.00      0.00         1\n",
      "\n",
      "                                                     accuracy                           0.41        34\n",
      "                                                    macro avg       0.25      0.26      0.25        34\n",
      "                                                 weighted avg       0.38      0.41      0.38        34\n",
      "\n"
     ]
    },
    {
     "name": "stderr",
     "output_type": "stream",
     "text": [
      "C:\\Users\\acer\\anaconda3\\lib\\site-packages\\sklearn\\metrics\\_classification.py:1272: UndefinedMetricWarning: Precision and F-score are ill-defined and being set to 0.0 in labels with no predicted samples. Use `zero_division` parameter to control this behavior.\n",
      "  _warn_prf(average, modifier, msg_start, len(result))\n",
      "C:\\Users\\acer\\anaconda3\\lib\\site-packages\\sklearn\\metrics\\_classification.py:1272: UndefinedMetricWarning: Recall and F-score are ill-defined and being set to 0.0 in labels with no true samples. Use `zero_division` parameter to control this behavior.\n",
      "  _warn_prf(average, modifier, msg_start, len(result))\n"
     ]
    }
   ],
   "source": [
    "from sklearn.metrics import classification_report, confusion_matrix\n",
    "print(confusion_matrix(y_test, y_pred))\n",
    "print(classification_report(y_test, y_pred))\n",
    "\n",
    "error = []"
   ]
  },
  {
   "cell_type": "code",
   "execution_count": 14,
   "metadata": {},
   "outputs": [],
   "source": [
    "for i in range(1, 40):\n",
    "    knn = KNeighborsClassifier(n_neighbors=i)\n",
    "    knn.fit(X_train, y_train)\n",
    "    pred_i = knn.predict(X_test)\n",
    "    error.append(np.mean(pred_i != y_test))\n"
   ]
  },
  {
   "cell_type": "code",
   "execution_count": 15,
   "metadata": {},
   "outputs": [
    {
     "data": {
      "text/plain": [
       "Text(0, 0.5, 'Mean Error')"
      ]
     },
     "execution_count": 15,
     "metadata": {},
     "output_type": "execute_result"
    },
    {
     "data": {
      "image/png": "[encoded data removed]",
      "text/plain": [
       "<Figure size 864x432 with 1 Axes>"
      ]
     },
     "metadata": {
      "needs_background": "light"
     },
     "output_type": "display_data"
    }
   ],
   "source": [
    "plt.figure(figsize=(12, 6))\n",
    "plt.plot(range(1, 40), error, color='red', linestyle='dashed', marker='o',\n",
    "         markerfacecolor='blue', markersize=10)\n",
    "plt.title('Error Rate K Value')\n",
    "plt.xlabel('K Value')\n",
    "plt.ylabel('Mean Error')\n"
   ]
  },
  {
   "cell_type": "code",
   "execution_count": 16,
   "metadata": {},
   "outputs": [
    {
     "name": "stdout",
     "output_type": "stream",
     "text": [
      "Accuracy=2.941176470588235%\n"
     ]
    }
   ],
   "source": [
    "pred=knn.predict(X_test)# getting predictons for the algorithm for test data\n",
    "print(\"Accuracy={}%\".format((sum( y_test==pred)/ y_test.shape[0])*100))"
   ]
  },
  {
   "cell_type": "code",
   "execution_count": null,
   "metadata": {},
   "outputs": [],
   "source": []
  }
 ],
 "metadata": {
  "kernelspec": {
   "display_name": "Python 3",
   "language": "python",
   "name": "python3"
  },
  "language_info": {
   "codemirror_mode": {
    "name": "ipython",
    "version": 3
   },
   "file_extension": ".py",
   "mimetype": "text/x-python",
   "name": "python",
   "nbconvert_exporter": "python",
   "pygments_lexer": "ipython3",
   "version": "3.8.5"
  }
 },
 "nbformat": 4,
 "nbformat_minor": 4
}
